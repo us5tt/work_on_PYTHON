{
  "nbformat": 4,
  "nbformat_minor": 0,
  "metadata": {
    "colab": {
      "name": "Untitled6.ipynb",
      "provenance": [],
      "authorship_tag": "ABX9TyO4WdRWwZWkxc6wK7egPYSt",
      "include_colab_link": true
    },
    "kernelspec": {
      "name": "python3",
      "display_name": "Python 3"
    },
    "language_info": {
      "name": "python"
    }
  },
  "cells": [
    {
      "cell_type": "markdown",
      "metadata": {
        "id": "view-in-github",
        "colab_type": "text"
      },
      "source": [
        "<a href=\"https://colab.research.google.com/github/us5tt/work_on_PYTHON/blob/main/OOP_test.ipynb\" target=\"_parent\"><img src=\"https://colab.research.google.com/assets/colab-badge.svg\" alt=\"Open In Colab\"/></a>"
      ]
    },
    {
      "cell_type": "code",
      "metadata": {
        "id": "gZ804N1b6f2q"
      },
      "source": [
        "# Создаем класс Car\n",
        "class Car:\n",
        " \n",
        "    # создаем атрибуты класса\n",
        "    name = \"c200\"\n",
        "    make = \"mercedez\"\n",
        "    model = 2008\n",
        " \n",
        "    # создаем методы класса\n",
        "    def start(self):\n",
        "        print (\"Заводим двигатель\")\n",
        " \n",
        "    def stop(self):\n",
        "        print (\"Отключаем двигатель\")"
      ],
      "execution_count": 1,
      "outputs": []
    },
    {
      "cell_type": "code",
      "metadata": {
        "id": "eI2V_HmN6sKP"
      },
      "source": [
        "# Создаем объект класса Car под названием car_a\n",
        "car_a = Car()\n",
        " \n",
        "# Создаем объект класса Car под названием car_b\n",
        "car_b = Car()"
      ],
      "execution_count": 2,
      "outputs": []
    }
  ]
}