{
  "nbformat": 4,
  "nbformat_minor": 0,
  "metadata": {
    "colab": {
      "name": "Untitled6.ipynb",
      "provenance": [],
      "authorship_tag": "ABX9TyMZLflRHTnh2a0Es2xMFPE3",
      "include_colab_link": true
    },
    "kernelspec": {
      "name": "python3",
      "display_name": "Python 3"
    },
    "language_info": {
      "name": "python"
    }
  },
  "cells": [
    {
      "cell_type": "markdown",
      "metadata": {
        "id": "view-in-github",
        "colab_type": "text"
      },
      "source": [
        "<a href=\"https://colab.research.google.com/github/us5tt/work_on_PYTHON/blob/main/OOP_test.ipynb\" target=\"_parent\"><img src=\"https://colab.research.google.com/assets/colab-badge.svg\" alt=\"Open In Colab\"/></a>"
      ]
    },
    {
      "cell_type": "code",
      "metadata": {
        "id": "gZ804N1b6f2q"
      },
      "source": [
        "# Создаем класс Car\n",
        "class Car:\n",
        " \n",
        "    # создаем атрибуты класса\n",
        "    name = \"c200\"\n",
        "    make = \"mercedez\"\n",
        "    model = 2008\n",
        " \n",
        "    # создаем методы класса\n",
        "    def start(self):\n",
        "        print (\"Заводим двигатель\")\n",
        " \n",
        "    def stop(self):\n",
        "        print (\"Отключаем двигатель\")"
      ],
      "execution_count": null,
      "outputs": []
    },
    {
      "cell_type": "code",
      "metadata": {
        "id": "eI2V_HmN6sKP"
      },
      "source": [
        "# Создаем объект класса Car под названием car_a\n",
        "car_a = Car()\n",
        " \n",
        "# Создаем объект класса Car под названием car_b\n",
        "car_b = Car()"
      ],
      "execution_count": null,
      "outputs": []
    },
    {
      "cell_type": "code",
      "metadata": {
        "colab": {
          "base_uri": "https://localhost:8080/"
        },
        "id": "LHDzy_BP7h0s",
        "outputId": "79d2aa34-08a6-4b7c-cd94-6fff3bac2e5f"
      },
      "source": [
        "1\n",
        "print(type(car_b))"
      ],
      "execution_count": null,
      "outputs": [
        {
          "output_type": "stream",
          "name": "stdout",
          "text": [
            "<class '__main__.Car'>\n"
          ]
        }
      ]
    },
    {
      "cell_type": "code",
      "metadata": {
        "colab": {
          "base_uri": "https://localhost:8080/"
        },
        "id": "_a9paaJF71-0",
        "outputId": "db7d5fa9-b8b0-4fae-f898-a8dee82b81a0"
      },
      "source": [
        "car_b.start()"
      ],
      "execution_count": null,
      "outputs": [
        {
          "output_type": "stream",
          "name": "stdout",
          "text": [
            "Заводим двигатель\n"
          ]
        }
      ]
    },
    {
      "cell_type": "code",
      "metadata": {
        "colab": {
          "base_uri": "https://localhost:8080/"
        },
        "id": "x7Fs1jfY76vM",
        "outputId": "def03097-a0c3-4074-c23d-0beb0f3a488f"
      },
      "source": [
        "print(car_b.model)"
      ],
      "execution_count": null,
      "outputs": [
        {
          "output_type": "stream",
          "name": "stdout",
          "text": [
            "2008\n"
          ]
        }
      ]
    },
    {
      "cell_type": "code",
      "metadata": {
        "colab": {
          "base_uri": "https://localhost:8080/"
        },
        "id": "Eq8_m2Yk78vM",
        "outputId": "7e055ad0-811f-4a0d-b904-8a16ae80fa7a"
      },
      "source": [
        "print(dir(car_b))"
      ],
      "execution_count": null,
      "outputs": [
        {
          "output_type": "stream",
          "name": "stdout",
          "text": [
            "['__class__', '__delattr__', '__dict__', '__dir__', '__doc__', '__eq__', '__format__', '__ge__', '__getattribute__', '__gt__', '__hash__', '__init__', '__init_subclass__', '__le__', '__lt__', '__module__', '__ne__', '__new__', '__reduce__', '__reduce_ex__', '__repr__', '__setattr__', '__sizeof__', '__str__', '__subclasshook__', '__weakref__', 'make', 'model', 'name', 'start', 'stop']\n"
          ]
        }
      ]
    },
    {
      "cell_type": "code",
      "metadata": {
        "id": "qZaA_K8q8GAv"
      },
      "source": [
        "class Car:\n",
        " \n",
        "    # создаем атрибуты класса\n",
        "    car_count = 0\n",
        " \n",
        "    # создаем методы класса\n",
        "    def start(self, name, make, model):\n",
        "        print(\"Двигатель заведен\")\n",
        "        self.name = name\n",
        "        self.make = make\n",
        "        self.model = model\n",
        "        Car.car_count += 1"
      ],
      "execution_count": null,
      "outputs": []
    },
    {
      "cell_type": "code",
      "metadata": {
        "colab": {
          "base_uri": "https://localhost:8080/"
        },
        "id": "YKKMF9vq8M4V",
        "outputId": "81f7d00b-a245-4c06-c1f7-d097d9dcd11f"
      },
      "source": [
        "car_a = Car()  \n",
        "car_a.start(\"Corrola\", \"Toyota\", 2015)  \n",
        "print(car_a.name)  \n",
        "print(car_a.car_count)"
      ],
      "execution_count": null,
      "outputs": [
        {
          "output_type": "stream",
          "name": "stdout",
          "text": [
            "Двигатель заведен\n",
            "Corrola\n",
            "1\n"
          ]
        }
      ]
    },
    {
      "cell_type": "code",
      "metadata": {
        "colab": {
          "base_uri": "https://localhost:8080/"
        },
        "id": "yKs9T3K_8Vxc",
        "outputId": "4850eb07-f2f0-462a-9446-b479a88b66e1"
      },
      "source": [
        "car_b = Car()  \n",
        "car_b.start(\"City\", \"Honda\", 2013)  \n",
        "print(car_b.name)  \n",
        "print(car_b.car_count)"
      ],
      "execution_count": null,
      "outputs": [
        {
          "output_type": "stream",
          "name": "stdout",
          "text": [
            "Двигатель заведен\n",
            "City\n",
            "2\n"
          ]
        }
      ]
    },
    {
      "cell_type": "markdown",
      "metadata": {
        "id": "PkT6Y_a18hG-"
      },
      "source": [
        ""
      ]
    },
    {
      "cell_type": "code",
      "metadata": {
        "colab": {
          "base_uri": "https://localhost:8080/"
        },
        "id": "JmGJ8yTW8izp",
        "outputId": "dc0bc8e3-d1b6-46a3-c48c-ae064322914d"
      },
      "source": [
        "class Car:\n",
        " \n",
        "    @staticmethod\n",
        "    def get_class_details():\n",
        "        print (\"Это класс Car\")\n",
        " \n",
        "Car.get_class_details()"
      ],
      "execution_count": null,
      "outputs": [
        {
          "output_type": "stream",
          "name": "stdout",
          "text": [
            "Это класс Car\n"
          ]
        }
      ]
    },
    {
      "cell_type": "code",
      "metadata": {
        "colab": {
          "base_uri": "https://localhost:8080/"
        },
        "id": "D3CQVhim8rOX",
        "outputId": "04fcb53b-7d93-4a9f-f3e4-ad723f399b19"
      },
      "source": [
        "class Square:\n",
        " \n",
        "    @staticmethod\n",
        "    def get_squares(a, b):\n",
        "        return a*a, b*b\n",
        " \n",
        "print(Square.get_squares(3, 5))"
      ],
      "execution_count": null,
      "outputs": [
        {
          "output_type": "stream",
          "name": "stdout",
          "text": [
            "(9, 25)\n"
          ]
        }
      ]
    },
    {
      "cell_type": "code",
      "metadata": {
        "colab": {
          "base_uri": "https://localhost:8080/"
        },
        "id": "ZYIhha7Y8tt7",
        "outputId": "02df6ebd-21d4-44d7-bbd9-e5bab5e7cad2"
      },
      "source": [
        "class Car:\n",
        " \n",
        "    # создание методов класса\n",
        "    def start(self):\n",
        "        print (\"Двигатель заведен\")\n",
        " \n",
        "car_a = Car()  \n",
        "print(car_a)"
      ],
      "execution_count": null,
      "outputs": [
        {
          "output_type": "stream",
          "name": "stdout",
          "text": [
            "<__main__.Car object at 0x7fc53e509810>\n"
          ]
        }
      ]
    },
    {
      "cell_type": "code",
      "metadata": {
        "colab": {
          "base_uri": "https://localhost:8080/"
        },
        "id": "aCBRQ6OY9FDi",
        "outputId": "c3d0b971-b8db-43a4-e421-755f777f48f4"
      },
      "source": [
        "# создание класса Car\n",
        "class Car:\n",
        " \n",
        "    # создание методов класса\n",
        "    def __str__(self):\n",
        "        return \"Car class Object\"\n",
        " \n",
        "    def start(self):\n",
        "        print (\"Двигатель заведен\")\n",
        " \n",
        "car_a = Car()  \n",
        "print(car_a)"
      ],
      "execution_count": null,
      "outputs": [
        {
          "output_type": "stream",
          "name": "stdout",
          "text": [
            "Car class Object\n"
          ]
        }
      ]
    },
    {
      "cell_type": "code",
      "metadata": {
        "id": "B7TPS5Pl9M0Q"
      },
      "source": [
        "class Car:\n",
        " \n",
        "    # создание атрибутов класса\n",
        "    car_count = 0\n",
        " \n",
        "    # создание методов класса\n",
        "    def __init__(self):\n",
        "        Car.car_count +=1\n",
        "        print(Car.car_count)"
      ],
      "execution_count": null,
      "outputs": []
    },
    {
      "cell_type": "code",
      "metadata": {
        "colab": {
          "base_uri": "https://localhost:8080/"
        },
        "id": "-bAbZ59I9Y7y",
        "outputId": "d2bfe8f1-7f46-4dfa-a84b-aa6ec85b2d0c"
      },
      "source": [
        "car_a = Car()  \n",
        "car_b = Car()  \n",
        "car_c = Car()"
      ],
      "execution_count": null,
      "outputs": [
        {
          "output_type": "stream",
          "name": "stdout",
          "text": [
            "1\n",
            "2\n",
            "3\n"
          ]
        }
      ]
    },
    {
      "cell_type": "code",
      "metadata": {
        "id": "Q12K5RC9984P"
      },
      "source": [
        "# создаем класс Car\n",
        "class Car:  \n",
        "    def start(self):\n",
        "        message = \"Двигатель заведен\"\n",
        "        return message\n"
      ],
      "execution_count": null,
      "outputs": []
    },
    {
      "cell_type": "code",
      "metadata": {
        "id": "2D0TW1ul9-sR",
        "colab": {
          "base_uri": "https://localhost:8080/",
          "height": 181
        },
        "outputId": "a4a2b1d0-d747-4ebe-9b66-27fe6e0814be"
      },
      "source": [
        "car_a = Car()  \n",
        "print(car_a.message)"
      ],
      "execution_count": null,
      "outputs": [
        {
          "output_type": "error",
          "ename": "AttributeError",
          "evalue": "ignored",
          "traceback": [
            "\u001b[0;31m---------------------------------------------------------------------------\u001b[0m",
            "\u001b[0;31mAttributeError\u001b[0m                            Traceback (most recent call last)",
            "\u001b[0;32m<ipython-input-22-bd1dc334d43b>\u001b[0m in \u001b[0;36m<module>\u001b[0;34m()\u001b[0m\n\u001b[1;32m      1\u001b[0m \u001b[0mcar_a\u001b[0m \u001b[0;34m=\u001b[0m \u001b[0mCar\u001b[0m\u001b[0;34m(\u001b[0m\u001b[0;34m)\u001b[0m\u001b[0;34m\u001b[0m\u001b[0;34m\u001b[0m\u001b[0m\n\u001b[0;32m----> 2\u001b[0;31m \u001b[0mprint\u001b[0m\u001b[0;34m(\u001b[0m\u001b[0mcar_a\u001b[0m\u001b[0;34m.\u001b[0m\u001b[0mmessage\u001b[0m\u001b[0;34m)\u001b[0m\u001b[0;34m\u001b[0m\u001b[0;34m\u001b[0m\u001b[0m\n\u001b[0m",
            "\u001b[0;31mAttributeError\u001b[0m: 'Car' object has no attribute 'message'"
          ]
        }
      ]
    },
    {
      "cell_type": "code",
      "metadata": {
        "id": "QOyvKaJO-xfs",
        "colab": {
          "base_uri": "https://localhost:8080/"
        },
        "outputId": "35b23ea0-cc4c-4ff0-d9dd-da39e42f2689"
      },
      "source": [
        "# создаем класс Car\n",
        "class Car:  \n",
        "    message1 = \"Двигатель заведен\"\n",
        " \n",
        "    def start(self):\n",
        "        message2 = \"Автомобиль заведен\"\n",
        "        return message2\n",
        " \n",
        "car_a = Car()  \n",
        "print(car_a.message1)"
      ],
      "execution_count": null,
      "outputs": [
        {
          "output_type": "stream",
          "name": "stdout",
          "text": [
            "Двигатель заведен\n"
          ]
        }
      ]
    },
    {
      "cell_type": "code",
      "metadata": {
        "id": "wCZIe6Je_B_j"
      },
      "source": [
        "class Car:  \n",
        "    def __init__(self):\n",
        "        print (\"Двигатель заведен\")\n",
        "        self.name = \"corolla\"\n",
        "        self.__make = \"toyota\"\n",
        "        self._model = 1999"
      ],
      "execution_count": null,
      "outputs": []
    },
    {
      "cell_type": "code",
      "metadata": {
        "id": "i96xlavY_JZ2",
        "colab": {
          "base_uri": "https://localhost:8080/"
        },
        "outputId": "4d07cd80-a3d4-489b-ac67-510d299ca811"
      },
      "source": [
        "car_a = Car()  \n",
        "print(car_a.name)"
      ],
      "execution_count": null,
      "outputs": [
        {
          "output_type": "stream",
          "name": "stdout",
          "text": [
            "Двигатель заведен\n",
            "corolla\n"
          ]
        }
      ]
    },
    {
      "cell_type": "code",
      "metadata": {
        "id": "a_S60Fms_Lf7",
        "colab": {
          "base_uri": "https://localhost:8080/",
          "height": 164
        },
        "outputId": "7c25fe3a-102d-4ce8-d2f2-6f36df5739a6"
      },
      "source": [
        "print(car_a.make)"
      ],
      "execution_count": null,
      "outputs": [
        {
          "output_type": "error",
          "ename": "AttributeError",
          "evalue": "ignored",
          "traceback": [
            "\u001b[0;31m---------------------------------------------------------------------------\u001b[0m",
            "\u001b[0;31mAttributeError\u001b[0m                            Traceback (most recent call last)",
            "\u001b[0;32m<ipython-input-29-d3cec27cc813>\u001b[0m in \u001b[0;36m<module>\u001b[0;34m()\u001b[0m\n\u001b[0;32m----> 1\u001b[0;31m \u001b[0mprint\u001b[0m\u001b[0;34m(\u001b[0m\u001b[0mcar_a\u001b[0m\u001b[0;34m.\u001b[0m\u001b[0mmake\u001b[0m\u001b[0;34m)\u001b[0m\u001b[0;34m\u001b[0m\u001b[0;34m\u001b[0m\u001b[0m\n\u001b[0m",
            "\u001b[0;31mAttributeError\u001b[0m: 'Car' object has no attribute 'make'"
          ]
        }
      ]
    },
    {
      "cell_type": "markdown",
      "metadata": {
        "id": "H7M9nOeH_kbU"
      },
      "source": [
        "# Полиморфизм;\n",
        "# Наследование;\n",
        "# Инкапсуляция."
      ]
    },
    {
      "cell_type": "markdown",
      "metadata": {
        "id": "UJFtgFMw_ybL"
      },
      "source": [
        "# `Наследование`\n",
        "\n"
      ]
    },
    {
      "cell_type": "code",
      "metadata": {
        "id": "WYidh0OUAAh8"
      },
      "source": [
        "# Создание класса Vehicle\n",
        "class Vehicle:  \n",
        "    def vehicle_method(self):\n",
        "        print(\"Это родительский метод из класса Vehicle\")\n",
        " \n",
        "# Создание класса Car, который наследует Vehicle\n",
        "class Car(Vehicle):  \n",
        "    def car_method(self):\n",
        "        print(\"Это метод из дочернего класса\")"
      ],
      "execution_count": null,
      "outputs": []
    },
    {
      "cell_type": "code",
      "metadata": {
        "id": "dtzgQx36AF9C",
        "colab": {
          "base_uri": "https://localhost:8080/"
        },
        "outputId": "c0a4e37a-a7c3-42da-8599-cdd6ef654e74"
      },
      "source": [
        "car_a = Car()  \n",
        "car_a.vehicle_method() # Вызываем метод родительского класса"
      ],
      "execution_count": null,
      "outputs": [
        {
          "output_type": "stream",
          "name": "stdout",
          "text": [
            "Это родительский метод из класса Vehicle\n"
          ]
        }
      ]
    },
    {
      "cell_type": "code",
      "metadata": {
        "id": "6HjrgxcaAStN"
      },
      "source": [
        "# создаем класс Vehicle\n",
        "class Vehicle:  \n",
        "    def vehicle_method(self):\n",
        "        print(\"Это родительский метод из класса Vehicle\")\n",
        " \n",
        "# создаем класс Car, который наследует Vehicle\n",
        "class Car(Vehicle):  \n",
        "    def car_method(self):\n",
        "        print(\"Это дочерний метод из класса Car\")\n",
        " \n",
        "# создаем класс Cycle, который наследует Vehicle\n",
        "class Cycle(Vehicle):  \n",
        "    def cycleMethod(self):\n",
        "        print(\"Это дочерний метод из класса Cycle\")"
      ],
      "execution_count": null,
      "outputs": []
    },
    {
      "cell_type": "code",
      "metadata": {
        "id": "vc8ylee4AbsQ",
        "colab": {
          "base_uri": "https://localhost:8080/"
        },
        "outputId": "3e23a2b4-4f5a-45a4-a37d-0aecc5492cf2"
      },
      "source": [
        "car_a = Car()  \n",
        "car_a.vehicle_method() # вызов метода родительского класса\n",
        "car_b = Cycle()  \n",
        "car_b.vehicle_method() # вызов метода родительского класса"
      ],
      "execution_count": null,
      "outputs": [
        {
          "output_type": "stream",
          "name": "stdout",
          "text": [
            "Это родительский метод из класса Vehicle\n",
            "Это родительский метод из класса Vehicle\n"
          ]
        }
      ]
    },
    {
      "cell_type": "code",
      "metadata": {
        "id": "FAbJyoPEAl6v"
      },
      "source": [
        "class Camera:  \n",
        "    def camera_method(self):\n",
        "        print(\"Это родительский метод из класса Camera\")\n",
        " \n",
        "class Radio:  \n",
        "    def radio_method(self):\n",
        "        print(\"Это родительский метод из класса Radio\")\n",
        " \n",
        "class CellPhone(Camera, Radio):  \n",
        "     def cell_phone_method(self):\n",
        "        print(\"Это дочерний метод из класса CellPhone\")"
      ],
      "execution_count": null,
      "outputs": []
    },
    {
      "cell_type": "code",
      "metadata": {
        "id": "X0c4rZU_ArDU",
        "colab": {
          "base_uri": "https://localhost:8080/"
        },
        "outputId": "f0b511e2-58ae-43c9-93e6-1687fd65c100"
      },
      "source": [
        "cell_phone_a = CellPhone()  \n",
        "cell_phone_a.camera_method()  \n",
        "cell_phone_a.radio_method()"
      ],
      "execution_count": null,
      "outputs": [
        {
          "output_type": "stream",
          "name": "stdout",
          "text": [
            "Это родительский метод из класса Camera\n",
            "Это родительский метод из класса Radio\n"
          ]
        }
      ]
    },
    {
      "cell_type": "markdown",
      "metadata": {
        "id": "2lB3fGTxAyCj"
      },
      "source": [
        "# `Полиморфизм`"
      ]
    },
    {
      "cell_type": "code",
      "metadata": {
        "id": "MjkGhtkoAz5K"
      },
      "source": [
        "# создаем класс Car\n",
        "class Car:  \n",
        "   def start(self, a, b=None):\n",
        "        if b is not None:\n",
        "            print (a + b)\n",
        "        else:\n",
        "            print (a)"
      ],
      "execution_count": null,
      "outputs": []
    },
    {
      "cell_type": "code",
      "metadata": {
        "id": "nTtOt4iuBAQo",
        "colab": {
          "base_uri": "https://localhost:8080/"
        },
        "outputId": "b5629fdb-efd6-4ac4-b740-4737c5e16fd6"
      },
      "source": [
        "car_a = Car()  \n",
        "car_a.start(10)"
      ],
      "execution_count": null,
      "outputs": [
        {
          "output_type": "stream",
          "name": "stdout",
          "text": [
            "10\n"
          ]
        }
      ]
    },
    {
      "cell_type": "code",
      "metadata": {
        "id": "V8LOaO8DBOW-",
        "colab": {
          "base_uri": "https://localhost:8080/"
        },
        "outputId": "7ab7456c-f1fb-489c-beec-c9547629a9ea"
      },
      "source": [
        "car_a.start(10, 20)"
      ],
      "execution_count": null,
      "outputs": [
        {
          "output_type": "stream",
          "name": "stdout",
          "text": [
            "30\n"
          ]
        }
      ]
    },
    {
      "cell_type": "code",
      "metadata": {
        "id": "MgeuYRgpBjze"
      },
      "source": [
        "# создание класса Vehicle\n",
        "class Vehicle:  \n",
        "    def print_details(self):\n",
        "        print(\"Это родительский метод из класса Vehicle\")\n",
        " \n",
        "# создание класса, который наследует Vehicle\n",
        "class Car(Vehicle):  \n",
        "    def print_details(self):\n",
        "        print(\"Это дочерний метод из класса Car\")\n",
        " \n",
        "# создание класса Cycle, который наследует Vehicle\n",
        "class Cycle(Vehicle):  \n",
        "    def print_details(self):\n",
        "        print(\"Это дочерний метод из класса Cycle\")"
      ],
      "execution_count": null,
      "outputs": []
    },
    {
      "cell_type": "code",
      "metadata": {
        "id": "XWmdjl8yBnb4",
        "colab": {
          "base_uri": "https://localhost:8080/"
        },
        "outputId": "4b727e32-5e66-4589-8143-09ebe1385529"
      },
      "source": [
        "car_a = Vehicle()  \n",
        "car_a. print_details()\n",
        " \n",
        "car_b = Car()  \n",
        "car_b.print_details()\n",
        " \n",
        "car_c = Cycle()  \n",
        "car_c.print_details()"
      ],
      "execution_count": null,
      "outputs": [
        {
          "output_type": "stream",
          "name": "stdout",
          "text": [
            "Это родительский метод из класса Vehicle\n",
            "Это дочерний метод из класса Car\n",
            "Это дочерний метод из класса Cycle\n"
          ]
        }
      ]
    },
    {
      "cell_type": "markdown",
      "metadata": {
        "id": "SACLgDZIBsI_"
      },
      "source": [
        "# `Инкапсуляция`"
      ]
    },
    {
      "cell_type": "code",
      "metadata": {
        "id": "eZkF5wm8BtsD",
        "colab": {
          "base_uri": "https://localhost:8080/"
        },
        "outputId": "4eeff2a0-baf0-44d3-dcc9-bc75d12ef43d"
      },
      "source": [
        "# создаем класс Car\n",
        "class Car:\n",
        " \n",
        "    # создаем конструктор класса Car\n",
        "    def __init__(self, model):\n",
        "        # Инициализация свойств.\n",
        "        self.model = model\n",
        " \n",
        "    # создаем свойство модели.\n",
        "    @property\n",
        "    def model(self):\n",
        "        return self.__model\n",
        " \n",
        "    # Сеттер для создания свойств.\n",
        "    @model.setter\n",
        "    def model(self, model):\n",
        "        if model < 2000:\n",
        "            self.__model = 2000\n",
        "        elif model > 2018:\n",
        "            self.__model = 2018\n",
        "        else:\n",
        "            self.__model = model\n",
        " \n",
        "    def getCarModel(self):\n",
        "        return \"Год выпуска модели \" + str(self.model)\n",
        " \n",
        "carA = Car(2088)  \n",
        "print(carA.getCarModel())"
      ],
      "execution_count": null,
      "outputs": [
        {
          "output_type": "stream",
          "name": "stdout",
          "text": [
            "Год выпуска модели 2018\n"
          ]
        }
      ]
    }
  ]
}