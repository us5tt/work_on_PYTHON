{
  "nbformat": 4,
  "nbformat_minor": 0,
  "metadata": {
    "colab": {
      "name": "Untitled6.ipynb",
      "provenance": [],
      "authorship_tag": "ABX9TyPkNJ9Vha1CFzvxXpessGwV",
      "include_colab_link": true
    },
    "kernelspec": {
      "name": "python3",
      "display_name": "Python 3"
    },
    "language_info": {
      "name": "python"
    }
  },
  "cells": [
    {
      "cell_type": "markdown",
      "metadata": {
        "id": "view-in-github",
        "colab_type": "text"
      },
      "source": [
        "<a href=\"https://colab.research.google.com/github/us5tt/work_on_PYTHON/blob/main/OOP_test.ipynb\" target=\"_parent\"><img src=\"https://colab.research.google.com/assets/colab-badge.svg\" alt=\"Open In Colab\"/></a>"
      ]
    },
    {
      "cell_type": "code",
      "metadata": {
        "id": "gZ804N1b6f2q"
      },
      "source": [
        "# Создаем класс Car\n",
        "class Car:\n",
        " \n",
        "    # создаем атрибуты класса\n",
        "    name = \"c200\"\n",
        "    make = \"mercedez\"\n",
        "    model = 2008\n",
        " \n",
        "    # создаем методы класса\n",
        "    def start(self):\n",
        "        print (\"Заводим двигатель\")\n",
        " \n",
        "    def stop(self):\n",
        "        print (\"Отключаем двигатель\")"
      ],
      "execution_count": 2,
      "outputs": []
    },
    {
      "cell_type": "code",
      "metadata": {
        "id": "eI2V_HmN6sKP"
      },
      "source": [
        "# Создаем объект класса Car под названием car_a\n",
        "car_a = Car()\n",
        " \n",
        "# Создаем объект класса Car под названием car_b\n",
        "car_b = Car()"
      ],
      "execution_count": 3,
      "outputs": []
    },
    {
      "cell_type": "code",
      "metadata": {
        "colab": {
          "base_uri": "https://localhost:8080/"
        },
        "id": "LHDzy_BP7h0s",
        "outputId": "79d2aa34-08a6-4b7c-cd94-6fff3bac2e5f"
      },
      "source": [
        "1\n",
        "print(type(car_b))"
      ],
      "execution_count": 4,
      "outputs": [
        {
          "output_type": "stream",
          "name": "stdout",
          "text": [
            "<class '__main__.Car'>\n"
          ]
        }
      ]
    },
    {
      "cell_type": "code",
      "metadata": {
        "colab": {
          "base_uri": "https://localhost:8080/"
        },
        "id": "_a9paaJF71-0",
        "outputId": "db7d5fa9-b8b0-4fae-f898-a8dee82b81a0"
      },
      "source": [
        "car_b.start()"
      ],
      "execution_count": 5,
      "outputs": [
        {
          "output_type": "stream",
          "name": "stdout",
          "text": [
            "Заводим двигатель\n"
          ]
        }
      ]
    },
    {
      "cell_type": "code",
      "metadata": {
        "colab": {
          "base_uri": "https://localhost:8080/"
        },
        "id": "x7Fs1jfY76vM",
        "outputId": "def03097-a0c3-4074-c23d-0beb0f3a488f"
      },
      "source": [
        "print(car_b.model)"
      ],
      "execution_count": 6,
      "outputs": [
        {
          "output_type": "stream",
          "name": "stdout",
          "text": [
            "2008\n"
          ]
        }
      ]
    },
    {
      "cell_type": "code",
      "metadata": {
        "colab": {
          "base_uri": "https://localhost:8080/"
        },
        "id": "Eq8_m2Yk78vM",
        "outputId": "7e055ad0-811f-4a0d-b904-8a16ae80fa7a"
      },
      "source": [
        "print(dir(car_b))"
      ],
      "execution_count": 7,
      "outputs": [
        {
          "output_type": "stream",
          "name": "stdout",
          "text": [
            "['__class__', '__delattr__', '__dict__', '__dir__', '__doc__', '__eq__', '__format__', '__ge__', '__getattribute__', '__gt__', '__hash__', '__init__', '__init_subclass__', '__le__', '__lt__', '__module__', '__ne__', '__new__', '__reduce__', '__reduce_ex__', '__repr__', '__setattr__', '__sizeof__', '__str__', '__subclasshook__', '__weakref__', 'make', 'model', 'name', 'start', 'stop']\n"
          ]
        }
      ]
    },
    {
      "cell_type": "code",
      "metadata": {
        "id": "qZaA_K8q8GAv"
      },
      "source": [
        "class Car:\n",
        " \n",
        "    # создаем атрибуты класса\n",
        "    car_count = 0\n",
        " \n",
        "    # создаем методы класса\n",
        "    def start(self, name, make, model):\n",
        "        print(\"Двигатель заведен\")\n",
        "        self.name = name\n",
        "        self.make = make\n",
        "        self.model = model\n",
        "        Car.car_count += 1"
      ],
      "execution_count": 8,
      "outputs": []
    },
    {
      "cell_type": "code",
      "metadata": {
        "colab": {
          "base_uri": "https://localhost:8080/"
        },
        "id": "YKKMF9vq8M4V",
        "outputId": "81f7d00b-a245-4c06-c1f7-d097d9dcd11f"
      },
      "source": [
        "car_a = Car()  \n",
        "car_a.start(\"Corrola\", \"Toyota\", 2015)  \n",
        "print(car_a.name)  \n",
        "print(car_a.car_count)"
      ],
      "execution_count": 9,
      "outputs": [
        {
          "output_type": "stream",
          "name": "stdout",
          "text": [
            "Двигатель заведен\n",
            "Corrola\n",
            "1\n"
          ]
        }
      ]
    },
    {
      "cell_type": "code",
      "metadata": {
        "colab": {
          "base_uri": "https://localhost:8080/"
        },
        "id": "yKs9T3K_8Vxc",
        "outputId": "4850eb07-f2f0-462a-9446-b479a88b66e1"
      },
      "source": [
        "car_b = Car()  \n",
        "car_b.start(\"City\", \"Honda\", 2013)  \n",
        "print(car_b.name)  \n",
        "print(car_b.car_count)"
      ],
      "execution_count": 10,
      "outputs": [
        {
          "output_type": "stream",
          "name": "stdout",
          "text": [
            "Двигатель заведен\n",
            "City\n",
            "2\n"
          ]
        }
      ]
    },
    {
      "cell_type": "markdown",
      "metadata": {
        "id": "PkT6Y_a18hG-"
      },
      "source": [
        ""
      ]
    },
    {
      "cell_type": "code",
      "metadata": {
        "colab": {
          "base_uri": "https://localhost:8080/"
        },
        "id": "JmGJ8yTW8izp",
        "outputId": "dc0bc8e3-d1b6-46a3-c48c-ae064322914d"
      },
      "source": [
        "class Car:\n",
        " \n",
        "    @staticmethod\n",
        "    def get_class_details():\n",
        "        print (\"Это класс Car\")\n",
        " \n",
        "Car.get_class_details()"
      ],
      "execution_count": 11,
      "outputs": [
        {
          "output_type": "stream",
          "name": "stdout",
          "text": [
            "Это класс Car\n"
          ]
        }
      ]
    },
    {
      "cell_type": "code",
      "metadata": {
        "colab": {
          "base_uri": "https://localhost:8080/"
        },
        "id": "D3CQVhim8rOX",
        "outputId": "04fcb53b-7d93-4a9f-f3e4-ad723f399b19"
      },
      "source": [
        "class Square:\n",
        " \n",
        "    @staticmethod\n",
        "    def get_squares(a, b):\n",
        "        return a*a, b*b\n",
        " \n",
        "print(Square.get_squares(3, 5))"
      ],
      "execution_count": 12,
      "outputs": [
        {
          "output_type": "stream",
          "name": "stdout",
          "text": [
            "(9, 25)\n"
          ]
        }
      ]
    },
    {
      "cell_type": "code",
      "metadata": {
        "colab": {
          "base_uri": "https://localhost:8080/"
        },
        "id": "ZYIhha7Y8tt7",
        "outputId": "02df6ebd-21d4-44d7-bbd9-e5bab5e7cad2"
      },
      "source": [
        "class Car:\n",
        " \n",
        "    # создание методов класса\n",
        "    def start(self):\n",
        "        print (\"Двигатель заведен\")\n",
        " \n",
        "car_a = Car()  \n",
        "print(car_a)"
      ],
      "execution_count": 13,
      "outputs": [
        {
          "output_type": "stream",
          "name": "stdout",
          "text": [
            "<__main__.Car object at 0x7fc53e509810>\n"
          ]
        }
      ]
    },
    {
      "cell_type": "code",
      "metadata": {
        "colab": {
          "base_uri": "https://localhost:8080/"
        },
        "id": "aCBRQ6OY9FDi",
        "outputId": "c3d0b971-b8db-43a4-e421-755f777f48f4"
      },
      "source": [
        "# создание класса Car\n",
        "class Car:\n",
        " \n",
        "    # создание методов класса\n",
        "    def __str__(self):\n",
        "        return \"Car class Object\"\n",
        " \n",
        "    def start(self):\n",
        "        print (\"Двигатель заведен\")\n",
        " \n",
        "car_a = Car()  \n",
        "print(car_a)"
      ],
      "execution_count": 14,
      "outputs": [
        {
          "output_type": "stream",
          "name": "stdout",
          "text": [
            "Car class Object\n"
          ]
        }
      ]
    },
    {
      "cell_type": "code",
      "metadata": {
        "id": "B7TPS5Pl9M0Q"
      },
      "source": [
        "class Car:\n",
        " \n",
        "    # создание атрибутов класса\n",
        "    car_count = 0\n",
        " \n",
        "    # создание методов класса\n",
        "    def __init__(self):\n",
        "        Car.car_count +=1\n",
        "        print(Car.car_count)"
      ],
      "execution_count": 16,
      "outputs": []
    },
    {
      "cell_type": "code",
      "metadata": {
        "colab": {
          "base_uri": "https://localhost:8080/"
        },
        "id": "-bAbZ59I9Y7y",
        "outputId": "d2bfe8f1-7f46-4dfa-a84b-aa6ec85b2d0c"
      },
      "source": [
        "car_a = Car()  \n",
        "car_b = Car()  \n",
        "car_c = Car()"
      ],
      "execution_count": 17,
      "outputs": [
        {
          "output_type": "stream",
          "name": "stdout",
          "text": [
            "1\n",
            "2\n",
            "3\n"
          ]
        }
      ]
    }
  ]
}