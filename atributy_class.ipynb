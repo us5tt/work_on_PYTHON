{
  "nbformat": 4,
  "nbformat_minor": 0,
  "metadata": {
    "colab": {
      "name": "Untitled5.ipynb",
      "provenance": [],
      "authorship_tag": "ABX9TyMFqmY1lvlOWi9lcwc41zbg",
      "include_colab_link": true
    },
    "kernelspec": {
      "name": "python3",
      "display_name": "Python 3"
    },
    "language_info": {
      "name": "python"
    }
  },
  "cells": [
    {
      "cell_type": "markdown",
      "metadata": {
        "id": "view-in-github",
        "colab_type": "text"
      },
      "source": [
        "<a href=\"https://colab.research.google.com/github/us5tt/work_on_PYTHON/blob/main/atributy_class.ipynb\" target=\"_parent\"><img src=\"https://colab.research.google.com/assets/colab-badge.svg\" alt=\"Open In Colab\"/></a>"
      ]
    },
    {
      "cell_type": "code",
      "metadata": {
        "id": "vNfrA3SnTdw0",
        "colab": {
          "base_uri": "https://localhost:8080/"
        },
        "outputId": "ad2afced-bc64-4842-83c7-ed1894f80186"
      },
      "source": [
        "import math\n",
        "# Используем только функции классной встроенной библиотеки math\n",
        "def compute():\n",
        "    n = math.factorial(100)\n",
        "    ans = sum(int(c) for c in str(n))\n",
        "    return str(ans)\n",
        "if __name__ == \"__main__\":\n",
        "    print(compute())"
      ],
      "execution_count": 1,
      "outputs": [
        {
          "output_type": "stream",
          "name": "stdout",
          "text": [
            "648\n"
          ]
        }
      ]
    },
    {
      "cell_type": "code",
      "metadata": {
        "id": "Y-E4v06ZTs8t",
        "colab": {
          "base_uri": "https://localhost:8080/"
        },
        "outputId": "e2151725-11fe-46b0-97d6-40e75a2800ca"
      },
      "source": [
        "#  Проекта Эйлера номер 25\n",
        "# \n",
        "import itertools\n",
        "# Т.к желаемое число не такое и большое то мы просто идем простым циклом\n",
        "def compute():\n",
        "    DIGITS = 1000\n",
        "    prev = 1\n",
        "    cur = 0\n",
        "    for i in itertools.count():\n",
        "        # На этом шаге, prev = fibonacci(i - 1) и cur = fibonacci(i)\n",
        "        if len(str(cur)) > DIGITS:\n",
        "            raise RuntimeError(\"Not found\")\n",
        "        elif len(str(cur)) == DIGITS:\n",
        "            return str(i)\n",
        "        \n",
        "        # Пересчитываем prev и cur по формуле чисел Фибоначчи\n",
        "        prev, cur = cur, prev + cur\n",
        "if __name__ == \"__main__\":\n",
        "    print(compute())"
      ],
      "execution_count": 2,
      "outputs": [
        {
          "output_type": "stream",
          "name": "stdout",
          "text": [
            "4782\n"
          ]
        }
      ]
    },
    {
      "cell_type": "code",
      "metadata": {
        "id": "oZnyOuy7HK_-"
      },
      "source": [
        "class MightiestWeapon:\n",
        "    # статический атрибут\n",
        "    name = \"Default name\"\n",
        "\n",
        "    def __init__(self, weapon_type):\n",
        "        # динамический атрибут\n",
        "        self.weapon_type = weapon_type"
      ],
      "execution_count": 3,
      "outputs": []
    },
    {
      "cell_type": "code",
      "metadata": {
        "colab": {
          "base_uri": "https://localhost:8080/"
        },
        "id": "mKMfJ5D_Hc4V",
        "outputId": "0d7fac9e-ef3f-493e-8dfa-f20e4b5b352d"
      },
      "source": [
        "class MightiestWeapon:\n",
        "    # статический атрибут\n",
        "    name = \"Default name\"\n",
        "\n",
        "    def __init__(self, name):\n",
        "        # динамический атрибут\n",
        "        self.name = name\n",
        "\n",
        "\n",
        "weapon = MightiestWeapon(\"sword\")\n",
        "\n",
        "print(MightiestWeapon.name)\n",
        "print(weapon.name)"
      ],
      "execution_count": 4,
      "outputs": [
        {
          "output_type": "stream",
          "name": "stdout",
          "text": [
            "Default name\n",
            "sword\n"
          ]
        }
      ]
    },
    {
      "cell_type": "code",
      "metadata": {
        "colab": {
          "base_uri": "https://localhost:8080/"
        },
        "id": "v7h_nAUWHi_0",
        "outputId": "25795734-310a-408f-a439-a9184b758f9c"
      },
      "source": [
        "class SpaceShip:\n",
        "    def atack(self):\n",
        "        print('Пиу!')\n",
        "\n",
        "star_destroyer = SpaceShip()\n",
        "star_destroyer.atack()"
      ],
      "execution_count": 6,
      "outputs": [
        {
          "output_type": "stream",
          "name": "stdout",
          "text": [
            "Пиу!\n"
          ]
        }
      ]
    }
  ]
}