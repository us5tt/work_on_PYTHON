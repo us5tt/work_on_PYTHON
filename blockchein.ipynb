{
  "nbformat": 4,
  "nbformat_minor": 0,
  "metadata": {
    "colab": {
      "name": "Skillbox BlockChain 23/08/21.ipynb",
      "provenance": [],
      "collapsed_sections": [],
      "include_colab_link": true
    },
    "kernelspec": {
      "name": "python3",
      "display_name": "Python 3"
    },
    "language_info": {
      "name": "python"
    }
  },
  "cells": [
    {
      "cell_type": "markdown",
      "metadata": {
        "id": "view-in-github",
        "colab_type": "text"
      },
      "source": [
        "<a href=\"https://colab.research.google.com/github/us5tt/work_on_PYTHON/blob/main/blockchein.ipynb\" target=\"_parent\"><img src=\"https://colab.research.google.com/assets/colab-badge.svg\" alt=\"Open In Colab\"/></a>"
      ]
    },
    {
      "cell_type": "markdown",
      "metadata": {
        "id": "fnesFtiILMUp"
      },
      "source": [
        "# Основы Python и Блокчейн"
      ]
    },
    {
      "cell_type": "code",
      "metadata": {
        "colab": {
          "base_uri": "https://localhost:8080/"
        },
        "id": "au0Q3yQ6LQwR",
        "outputId": "17f26c74-5c49-4661-804d-d953875aec36"
      },
      "source": [
        "print(\"Hello world\")"
      ],
      "execution_count": null,
      "outputs": [
        {
          "output_type": "stream",
          "text": [
            "Hello world\n"
          ],
          "name": "stdout"
        }
      ]
    },
    {
      "cell_type": "code",
      "metadata": {
        "id": "AZM92X0mU6ZL"
      },
      "source": [
        "cipher = {\"text\": \"\\u041d\\u0430\\u043f\\u0438\\u0448\\u0438\\u0442\\u0435 \\u0432 \\u0447\\u0430\\u0442 '\\u041c\\u0418\\u0428\\u0413\\u0410\\u041d\\u0421\\u0422\\u0410', \\u0435\\u0441\\u043b\\u0438 \\u0441\\u043c\\u043e\\u0433\\u043b\\u0438 \\u0440\\u0430\\u0441\\u0448\\u0438\\u0444\\u0440\\u043e\\u0432\\u0430\\u0442\\u044c \\u044d\\u0442\\u043e \\u0441\\u043e\\u043e\\u0431\\u0449\\u0435\\u043d\\u0438\\u0435\"}"
      ],
      "execution_count": null,
      "outputs": []
    },
    {
      "cell_type": "code",
      "metadata": {
        "id": "Fz0wH4c-XPLj"
      },
      "source": [
        "cipher2 = '0JXRgdC70Lgg0YDQsNC30LPQsNC00LDQu9C4IC0g0L/QuNGI0LjRgtC1ICfQoNC10LrQu9Cw0LzQvtGH0LrQsCDQu9GO0LHQuNC80LDRjyEn'"
      ],
      "execution_count": null,
      "outputs": []
    },
    {
      "cell_type": "code",
      "metadata": {
        "colab": {
          "base_uri": "https://localhost:8080/"
        },
        "id": "9Xe57RqhZP8P",
        "outputId": "848078b6-cd85-4e7f-88c0-e8acf77002f2"
      },
      "source": [
        "12 * 2"
      ],
      "execution_count": null,
      "outputs": [
        {
          "output_type": "execute_result",
          "data": {
            "text/plain": [
              "24"
            ]
          },
          "metadata": {},
          "execution_count": 5
        }
      ]
    },
    {
      "cell_type": "code",
      "metadata": {
        "colab": {
          "base_uri": "https://localhost:8080/"
        },
        "id": "J-qnhW8LaVQ6",
        "outputId": "5980e238-d133-4399-985d-6ca36c4a62f1"
      },
      "source": [
        "print(\"Всем приветы в этом чате\")"
      ],
      "execution_count": null,
      "outputs": [
        {
          "output_type": "stream",
          "text": [
            "Всем приветы в этом чате\n"
          ],
          "name": "stdout"
        }
      ]
    },
    {
      "cell_type": "code",
      "metadata": {
        "colab": {
          "base_uri": "https://localhost:8080/"
        },
        "id": "_109EUVRaZCo",
        "outputId": "a58515c0-a535-4f06-8af0-8319a578ea4f"
      },
      "source": [
        "my_money = 1234 # создаем переменную\n",
        "print(my_money)"
      ],
      "execution_count": null,
      "outputs": [
        {
          "output_type": "stream",
          "text": [
            "1234\n"
          ],
          "name": "stdout"
        }
      ]
    },
    {
      "cell_type": "code",
      "metadata": {
        "colab": {
          "base_uri": "https://localhost:8080/"
        },
        "id": "LE7rWomPanhw",
        "outputId": "f6a3ec0f-893b-4f23-b39d-a43f34349919"
      },
      "source": [
        "print(f\"У меня на счету: {my_money} рублей.\") # форматированная строка"
      ],
      "execution_count": null,
      "outputs": [
        {
          "output_type": "stream",
          "text": [
            "У меня на счету: 1234 рублей.\n"
          ],
          "name": "stdout"
        }
      ]
    },
    {
      "cell_type": "code",
      "metadata": {
        "colab": {
          "base_uri": "https://localhost:8080/"
        },
        "id": "A3vqzMBpa07a",
        "outputId": "6da1edc5-0cd4-4392-a944-a8a5f5d02e63"
      },
      "source": [
        "usd_rub_rate = 74.16 # курс доллара\n",
        "my_money_usd = int(my_money / usd_rub_rate) # сколько у меня денег в долларах\n",
        "print(f\"У меня на счету {my_money_usd} долларов\")"
      ],
      "execution_count": null,
      "outputs": [
        {
          "output_type": "stream",
          "text": [
            "У меня на счету 16 долларов\n"
          ],
          "name": "stdout"
        }
      ]
    },
    {
      "cell_type": "code",
      "metadata": {
        "id": "51HrLAqSbZf9"
      },
      "source": [
        "# shift+enter"
      ],
      "execution_count": null,
      "outputs": []
    },
    {
      "cell_type": "code",
      "metadata": {
        "colab": {
          "base_uri": "https://localhost:8080/"
        },
        "id": "Ed2xAVvBbdi0",
        "outputId": "879200ae-0058-48b7-d2c9-4caaa253a743"
      },
      "source": [
        "income = [10000, 500, 12345, 9000] # Список, Все поступления на счет\n",
        "count = len(income) # кол-во поступлений на счет\n",
        "balance = sum(income) # сумма всех поступлений\n",
        "\n",
        "print(f\"На мой счет было {count} поступлений, и теперь мой баланс = {balance}\")"
      ],
      "execution_count": null,
      "outputs": [
        {
          "output_type": "stream",
          "text": [
            "На мой счет было 4 поступлений, и теперь мой баланс = 31845\n"
          ],
          "name": "stdout"
        }
      ]
    },
    {
      "cell_type": "code",
      "metadata": {
        "colab": {
          "base_uri": "https://localhost:8080/"
        },
        "id": "_Rl2CQYbb9uR",
        "outputId": "ea1da5e3-74b8-43ad-969a-31726149c6c9"
      },
      "source": [
        "income[0]"
      ],
      "execution_count": null,
      "outputs": [
        {
          "output_type": "execute_result",
          "data": {
            "text/plain": [
              "10000"
            ]
          },
          "metadata": {},
          "execution_count": 19
        }
      ]
    },
    {
      "cell_type": "code",
      "metadata": {
        "colab": {
          "base_uri": "https://localhost:8080/"
        },
        "id": "U9XKqESkcVo6",
        "outputId": "b00419b5-ceca-42b5-acb2-8738d82098a6"
      },
      "source": [
        "income[1]"
      ],
      "execution_count": null,
      "outputs": [
        {
          "output_type": "execute_result",
          "data": {
            "text/plain": [
              "500"
            ]
          },
          "metadata": {},
          "execution_count": 20
        }
      ]
    },
    {
      "cell_type": "code",
      "metadata": {
        "colab": {
          "base_uri": "https://localhost:8080/"
        },
        "id": "zMziiAfwcZLf",
        "outputId": "472bc9c6-e3c9-4f5f-f0e3-c23191acc067"
      },
      "source": [
        "income[2]"
      ],
      "execution_count": null,
      "outputs": [
        {
          "output_type": "execute_result",
          "data": {
            "text/plain": [
              "12345"
            ]
          },
          "metadata": {},
          "execution_count": 21
        }
      ]
    },
    {
      "cell_type": "code",
      "metadata": {
        "colab": {
          "base_uri": "https://localhost:8080/"
        },
        "id": "1wGeLasWcbn5",
        "outputId": "00b8468e-d93b-4706-9c09-56b5e6fcbf6f"
      },
      "source": [
        "income[3]"
      ],
      "execution_count": null,
      "outputs": [
        {
          "output_type": "execute_result",
          "data": {
            "text/plain": [
              "9000"
            ]
          },
          "metadata": {},
          "execution_count": 22
        }
      ]
    },
    {
      "cell_type": "code",
      "metadata": {
        "colab": {
          "base_uri": "https://localhost:8080/"
        },
        "id": "TNGUTEgPccXU",
        "outputId": "d5c253ba-17ca-4c02-e81a-88697adbacf5"
      },
      "source": [
        "income[-1] # последнее"
      ],
      "execution_count": null,
      "outputs": [
        {
          "output_type": "execute_result",
          "data": {
            "text/plain": [
              "9000"
            ]
          },
          "metadata": {},
          "execution_count": 25
        }
      ]
    },
    {
      "cell_type": "code",
      "metadata": {
        "colab": {
          "base_uri": "https://localhost:8080/"
        },
        "id": "uX32fz1GcdRP",
        "outputId": "f05c4d3d-7a43-4e95-ca6e-7ce038eade7c"
      },
      "source": [
        "income[:2] # первые два элемента"
      ],
      "execution_count": null,
      "outputs": [
        {
          "output_type": "execute_result",
          "data": {
            "text/plain": [
              "[10000, 500]"
            ]
          },
          "metadata": {},
          "execution_count": 27
        }
      ]
    },
    {
      "cell_type": "code",
      "metadata": {
        "colab": {
          "base_uri": "https://localhost:8080/"
        },
        "id": "IIPoFgZPcrXK",
        "outputId": "0c627614-4411-4765-a0e6-a0878b1d6eaa"
      },
      "source": [
        "income[2:] # все элементы, начиная со второго"
      ],
      "execution_count": null,
      "outputs": [
        {
          "output_type": "execute_result",
          "data": {
            "text/plain": [
              "[12345, 9000]"
            ]
          },
          "metadata": {},
          "execution_count": 29
        }
      ]
    },
    {
      "cell_type": "code",
      "metadata": {
        "colab": {
          "base_uri": "https://localhost:8080/"
        },
        "id": "B2zFaCE7c0Gp",
        "outputId": "ab832b4d-4118-436c-b616-ffd36660170e"
      },
      "source": [
        "iphone_price = 120000\n",
        "coffee_price = 50\n",
        "\n",
        "if balance > iphone_price:\n",
        "  print(\"Я могу позволить себе Айфон\")\n",
        "else:\n",
        "  print(\"Я НЕ могу позволить себе Айфон\")\n",
        "\n",
        "if balance > coffee_price:\n",
        "  cup_count = int(balance / coffee_price)\n",
        "  print(f\"Я могу позволить себе {cup_count} чашек кофе\")"
      ],
      "execution_count": null,
      "outputs": [
        {
          "output_type": "stream",
          "text": [
            "Я НЕ могу позволить себе Айфон\n",
            "Я могу позволить себе 636 чашек кофе\n"
          ],
          "name": "stdout"
        }
      ]
    },
    {
      "cell_type": "code",
      "metadata": {
        "id": "GBdDEwtAdGPd"
      },
      "source": [
        "import hashlib # исмпортируем модуль с хэш-функции"
      ],
      "execution_count": null,
      "outputs": []
    },
    {
      "cell_type": "code",
      "metadata": {
        "colab": {
          "base_uri": "https://localhost:8080/"
        },
        "id": "5_Q8EfvleP0_",
        "outputId": "393fed6c-6827-4fc7-a6f7-49db06bdefa2"
      },
      "source": [
        "# Словарь\n",
        "my_account = {\n",
        "    \"name\": \"Mike\",\n",
        "    \"balance\": balance,\n",
        "    \"open_date\": \"12-05-2006\"\n",
        "}\n",
        "\n",
        "my_account"
      ],
      "execution_count": null,
      "outputs": [
        {
          "output_type": "execute_result",
          "data": {
            "text/plain": [
              "{'balance': 31845, 'name': 'Mike', 'open_date': '12-05-2006'}"
            ]
          },
          "metadata": {},
          "execution_count": 39
        }
      ]
    },
    {
      "cell_type": "code",
      "metadata": {
        "colab": {
          "base_uri": "https://localhost:8080/"
        },
        "id": "x19jnLYUefIr",
        "outputId": "bbd8d021-e22a-42d7-927f-1d7c56a303fc"
      },
      "source": [
        "my_account[\"balance\"]"
      ],
      "execution_count": null,
      "outputs": [
        {
          "output_type": "execute_result",
          "data": {
            "text/plain": [
              "31845"
            ]
          },
          "metadata": {},
          "execution_count": 42
        }
      ]
    },
    {
      "cell_type": "code",
      "metadata": {
        "colab": {
          "base_uri": "https://localhost:8080/",
          "height": 35
        },
        "id": "OPs47UtSehea",
        "outputId": "11636c73-1ecc-4f0f-834e-6e6163d5353f"
      },
      "source": [
        "text = \"Приветики\"\n",
        "binary = text.encode() # преобразуем к бинарным данным\n",
        "hashlib.sha256(binary).hexdigest() # Считаем хэш"
      ],
      "execution_count": null,
      "outputs": [
        {
          "output_type": "execute_result",
          "data": {
            "application/vnd.google.colaboratory.intrinsic+json": {
              "type": "string"
            },
            "text/plain": [
              "'ccd930329bc4799336214d40e949dc07b29065d8de950f123d0300724a41e31b'"
            ]
          },
          "metadata": {},
          "execution_count": 49
        }
      ]
    },
    {
      "cell_type": "code",
      "metadata": {
        "id": "XTpOkyYOe8TW"
      },
      "source": [
        "import json"
      ],
      "execution_count": null,
      "outputs": []
    },
    {
      "cell_type": "code",
      "metadata": {
        "id": "zsHx8X5PfYY_"
      },
      "source": [
        "def dataToHash(data):\n",
        "  json_data = json.dumps(data, sort_keys = True) # приводим словарь к строке в формате json\n",
        "  binary_data = json_data.encode() # приводим строку к бинарным данным\n",
        "  return hashlib.sha256(binary_data).hexdigest()[:10] # хэш сложной структуры данных, первые 10 символов хэша"
      ],
      "execution_count": null,
      "outputs": []
    },
    {
      "cell_type": "code",
      "metadata": {
        "colab": {
          "base_uri": "https://localhost:8080/",
          "height": 35
        },
        "id": "782DCENbfbcs",
        "outputId": "4a28938f-3e76-4a6e-c1d4-421d0d58dcf3"
      },
      "source": [
        "dataToHash(my_account)"
      ],
      "execution_count": null,
      "outputs": [
        {
          "output_type": "execute_result",
          "data": {
            "application/vnd.google.colaboratory.intrinsic+json": {
              "type": "string"
            },
            "text/plain": [
              "'3bbb8e6412'"
            ]
          },
          "metadata": {},
          "execution_count": 120
        }
      ]
    },
    {
      "cell_type": "markdown",
      "metadata": {
        "id": "VOniD-Qegadw"
      },
      "source": [
        "# Блокчейн"
      ]
    },
    {
      "cell_type": "code",
      "metadata": {
        "id": "mq3SryPHgXb9"
      },
      "source": [
        "blockchain = [\n",
        "  {\n",
        "      \"from\": \"\", # кто отправил\n",
        "      \"to\": \"\", # кому отправили\n",
        "      \"amount\": 0.0 # сколько отправили\n",
        "  },\n",
        "] # Блокчейн - это список транзакций\n",
        "\n",
        "def addNewBlock(account_from, account_to, amount): # функция добавления блок в блокчейн\n",
        "  prev_block = blockchain[-1] # последний блок в блокчейне\n",
        "  prev_hash = dataToHash(prev_block)\n",
        "  block = {\n",
        "      \"from\": account_from,\n",
        "      \"to\": account_to,\n",
        "      \"amount\": amount,\n",
        "      \"prev_hash\": prev_hash\n",
        "  } # создали блок\n",
        "  blockchain.append(block) # добавляем блок в блокчейн"
      ],
      "execution_count": null,
      "outputs": []
    },
    {
      "cell_type": "markdown",
      "metadata": {
        "id": "OYv0M4FgixtG"
      },
      "source": [
        "![image.png](data:image/png;base64,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)"
      ]
    },
    {
      "cell_type": "code",
      "metadata": {
        "colab": {
          "base_uri": "https://localhost:8080/"
        },
        "id": "-6y1LDfNha7R",
        "outputId": "eae1b162-f85d-4580-f16c-f4cdb8aee319"
      },
      "source": [
        "addNewBlock(\"Mike\", \"Vasya\", 2000)\n",
        "addNewBlock(\"Mike\", \"Petya\", 14)\n",
        "addNewBlock(\"Mike\", \"Kolya\", 88)\n",
        "addNewBlock(\"Mike\", \"Nastya\", 69420)\n",
        "blockchain"
      ],
      "execution_count": null,
      "outputs": [
        {
          "output_type": "execute_result",
          "data": {
            "text/plain": [
              "[{'amount': 0.0, 'from': '', 'to': ''},\n",
              " {'amount': 2000, 'from': 'Mike', 'prev_hash': 'd2ee03e02e', 'to': 'Vasya'},\n",
              " {'amount': 14, 'from': 'Mike', 'prev_hash': '10745ee83b', 'to': 'Petya'},\n",
              " {'amount': 88, 'from': 'Mike', 'prev_hash': 'afd87d2c1d', 'to': 'Kolya'},\n",
              " {'amount': 69420, 'from': 'Mike', 'prev_hash': '21f9ddc78c', 'to': 'Nastya'}]"
            ]
          },
          "metadata": {},
          "execution_count": 122
        }
      ]
    },
    {
      "cell_type": "markdown",
      "metadata": {
        "id": "fEKeYIA7jRSC"
      },
      "source": [
        "![image.png](data:image/png;base64,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)"
      ]
    },
    {
      "cell_type": "code",
      "metadata": {
        "colab": {
          "base_uri": "https://localhost:8080/"
        },
        "id": "PaNbiucOjDwy",
        "outputId": "045f380e-95d6-41e4-b9d3-2f805eb0a6af"
      },
      "source": [
        "addNewBlock(\"Vasya\", \"Petya\", 1000)\n",
        "addNewBlock(\"Petya\", \"Nastya\", 500)\n",
        "addNewBlock(\"Petya\", \"Kolya\", 500)\n",
        "blockchain"
      ],
      "execution_count": null,
      "outputs": [
        {
          "output_type": "execute_result",
          "data": {
            "text/plain": [
              "[{'amount': 0.0, 'from': '', 'to': ''},\n",
              " {'amount': 2000, 'from': 'Mike', 'prev_hash': 'd2ee03e02e', 'to': 'Vasya'},\n",
              " {'amount': 14, 'from': 'Mike', 'prev_hash': '10745ee83b', 'to': 'Petya'},\n",
              " {'amount': 88, 'from': 'Mike', 'prev_hash': 'afd87d2c1d', 'to': 'Kolya'},\n",
              " {'amount': 69420, 'from': 'Mike', 'prev_hash': '21f9ddc78c', 'to': 'Nastya'},\n",
              " {'amount': 1000, 'from': 'Vasya', 'prev_hash': 'ec094fdc09', 'to': 'Petya'},\n",
              " {'amount': 500, 'from': 'Petya', 'prev_hash': 'b8e39ecb6a', 'to': 'Nastya'},\n",
              " {'amount': 500, 'from': 'Petya', 'prev_hash': '1f113ab6ee', 'to': 'Kolya'}]"
            ]
          },
          "metadata": {},
          "execution_count": 123
        }
      ]
    },
    {
      "cell_type": "code",
      "metadata": {
        "id": "nMe3_FJQjZ2e"
      },
      "source": [
        "def validateBlockchain():\n",
        "    prev_block = None\n",
        "\n",
        "    for block in blockchain: # для каждого блока в блокчейне\n",
        "      if prev_block:\n",
        "        # сверить хэши, начиная со второго блока\n",
        "        actual_prev_hash = dataToHash(prev_block) # считаем хэш пред. блока\n",
        "        recorded_prev_hash = block[\"prev_hash\"] # хэш записанный в блокчейне\n",
        "        if actual_prev_hash != recorded_prev_hash: # если хэши не совпадают\n",
        "          print(f\"Blockhain is invalid, expected {recorded_prev_hash}, actual = {actual_prev_hash}\")\n",
        "        else:\n",
        "          print(f\"Valid hash {actual_prev_hash}\")\n",
        "\n",
        "      prev_block = block "
      ],
      "execution_count": null,
      "outputs": []
    },
    {
      "cell_type": "code",
      "metadata": {
        "colab": {
          "base_uri": "https://localhost:8080/"
        },
        "id": "yr_i8qYRkumU",
        "outputId": "fc3f021e-5d08-4b2f-a0cd-98ffa8ad14b8"
      },
      "source": [
        "validateBlockchain()"
      ],
      "execution_count": null,
      "outputs": [
        {
          "output_type": "stream",
          "text": [
            "Valid hash d2ee03e02e\n",
            "Valid hash 10745ee83b\n",
            "Valid hash afd87d2c1d\n",
            "Valid hash 21f9ddc78c\n",
            "Valid hash ec094fdc09\n",
            "Valid hash b8e39ecb6a\n",
            "Valid hash 1f113ab6ee\n"
          ],
          "name": "stdout"
        }
      ]
    },
    {
      "cell_type": "code",
      "metadata": {
        "colab": {
          "base_uri": "https://localhost:8080/"
        },
        "id": "_9fsYKT_k8Ir",
        "outputId": "20861dd0-04a7-4150-eda6-16809603b43b"
      },
      "source": [
        "%%time\n",
        "# Хакаем блокчейн, ищем коллизии\n",
        "\n",
        "block = 5\n",
        "amount = blockchain[block][\"amount\"] # кол-во денег в транзакции\n",
        "expected_hash = blockchain[block+1][\"prev_hash\"] # Нужно чтобы этот хэш совпал\n",
        "\n",
        "hash = \"\"\n",
        "\n",
        "while hash != expected_hash: # до тех пор, пока хэши не совпадают\n",
        "  amount += 1 # увеличиваем размер транзакции\n",
        "  blockchain[block][\"amount\"] = amount # записываем в блокчейн неправильную сумму денег\n",
        "  hash = dataToHash(blockchain[block]) # считаем хэш заново\n",
        "\n",
        "print(f\"New amount = {amount}\")\n",
        "validateBlockchain()\n",
        "blockchain"
      ],
      "execution_count": null,
      "outputs": [
        {
          "output_type": "stream",
          "text": [
            "New amount = 4407\n",
            "Valid hash d2ee\n",
            "Valid hash 6688\n",
            "Valid hash 7a03\n",
            "Valid hash 1f74\n",
            "Valid hash b640\n",
            "Valid hash 0a72\n",
            "Valid hash 75a5\n",
            "CPU times: user 39.6 ms, sys: 996 µs, total: 40.6 ms\n",
            "Wall time: 40.4 ms\n"
          ],
          "name": "stdout"
        }
      ]
    },
    {
      "cell_type": "code",
      "metadata": {
        "colab": {
          "base_uri": "https://localhost:8080/"
        },
        "id": "P7SWlm2DngY9",
        "outputId": "dda3e7d1-6d0c-4233-d232-c80867710dc2"
      },
      "source": [
        "blockchain"
      ],
      "execution_count": null,
      "outputs": [
        {
          "output_type": "execute_result",
          "data": {
            "text/plain": [
              "[{'amount': 0.0, 'from': '', 'to': ''},\n",
              " {'amount': 2000, 'from': 'Mike', 'prev_hash': 'd2ee', 'to': 'Vasya'},\n",
              " {'amount': 14, 'from': 'Mike', 'prev_hash': '6688', 'to': 'Petya'},\n",
              " {'amount': 88, 'from': 'Mike', 'prev_hash': '7a03', 'to': 'Kolya'},\n",
              " {'amount': 69420, 'from': 'Mike', 'prev_hash': '1f74', 'to': 'Nastya'},\n",
              " {'amount': 4407, 'from': 'Vasya', 'prev_hash': 'b640', 'to': 'Petya'},\n",
              " {'amount': 500, 'from': 'Petya', 'prev_hash': '0a72', 'to': 'Nastya'},\n",
              " {'amount': 500, 'from': 'Petya', 'prev_hash': '75a5', 'to': 'Kolya'}]"
            ]
          },
          "metadata": {},
          "execution_count": 111
        }
      ]
    },
    {
      "cell_type": "code",
      "metadata": {
        "colab": {
          "base_uri": "https://localhost:8080/"
        },
        "id": "4zKoDQV_nnvV",
        "outputId": "ef08883c-ddd8-4ae8-98ae-ce6b00486117"
      },
      "source": [
        "for amount in range(1000, 999999): # от 1000 до 999,999 руб\n",
        "  blockchain[block][\"amount\"] = amount # записываем в блокчейн неправильную сумму денег\n",
        "  hash = dataToHash(blockchain[block]) # считаем хэш заново\n",
        "  if hash == expected_hash:\n",
        "    print(amount)"
      ],
      "execution_count": null,
      "outputs": [
        {
          "output_type": "stream",
          "text": [
            "1000\n",
            "4407\n",
            "23236\n",
            "32520\n",
            "59404\n",
            "104754\n",
            "157181\n",
            "281562\n",
            "296911\n",
            "333721\n",
            "475240\n",
            "483270\n",
            "813678\n",
            "937695\n",
            "979016\n"
          ],
          "name": "stdout"
        }
      ]
    },
    {
      "cell_type": "code",
      "metadata": {
        "id": "P2EH6clWn9Ow"
      },
      "source": [
        "blockchain[block][\"amount\"] = 979016"
      ],
      "execution_count": null,
      "outputs": []
    },
    {
      "cell_type": "code",
      "metadata": {
        "colab": {
          "base_uri": "https://localhost:8080/"
        },
        "id": "suFiopV8oEYk",
        "outputId": "2150febb-8f36-46be-c2a8-6b806716d755"
      },
      "source": [
        "validateBlockchain()"
      ],
      "execution_count": null,
      "outputs": [
        {
          "output_type": "stream",
          "text": [
            "Valid hash d2ee03e02e\n",
            "Valid hash 10745ee83b\n",
            "Valid hash afd87d2c1d\n",
            "Valid hash 21f9ddc78c\n",
            "Valid hash ec094fdc09\n",
            "Valid hash b8e39ecb6a\n",
            "Valid hash 1f113ab6ee\n"
          ],
          "name": "stdout"
        }
      ]
    },
    {
      "cell_type": "code",
      "metadata": {
        "id": "ZoLLDfc5oFjT"
      },
      "source": [
        "# proof - доказательство работы, это число нужно подобрать так, чтобы хэш начинался с нулей\n",
        "def isValidProof(block, proof): # подходит ли это число в качестве доказательства работы\n",
        "  block_copy = block.copy() # создадим копию блока\n",
        "  block_copy[\"proof\"] = proof\n",
        "  hash = dataToHash(block_copy) # считаем новый хэш\n",
        "  is_valid_hash = hash[0:6] == \"000000\"\n",
        "  if is_valid_hash:\n",
        "    print(hash)\n",
        "  return is_valid_hash # начинается ли хэш с двух нулей?\n",
        "\n",
        "def mineProofOfWork(block): # намайнить число, такое чтобы добавив его к блоку, хэш начинался с двух нулей\n",
        "  proof = 0\n",
        "  while not isValidProof(block, proof):\n",
        "    proof += 1\n",
        "  return proof"
      ],
      "execution_count": null,
      "outputs": []
    },
    {
      "cell_type": "code",
      "metadata": {
        "colab": {
          "base_uri": "https://localhost:8080/"
        },
        "id": "ir3dYDAUrbff",
        "outputId": "f10b3b56-4c46-4a5d-ab29-477deccc9bea"
      },
      "source": [
        "%%time\n",
        "mineProofOfWork(blockchain[5])"
      ],
      "execution_count": null,
      "outputs": [
        {
          "output_type": "stream",
          "text": [
            "0000007c2b\n",
            "CPU times: user 3min 22s, sys: 320 ms, total: 3min 23s\n",
            "Wall time: 3min 23s\n"
          ],
          "name": "stdout"
        },
        {
          "output_type": "execute_result",
          "data": {
            "text/plain": [
              "21076751"
            ]
          },
          "metadata": {},
          "execution_count": 138
        }
      ]
    },
    {
      "cell_type": "code",
      "metadata": {
        "id": "hDOWFuLOrd8T"
      },
      "source": [
        "# Вместо обычной dataToHash, начнем использовать функцию майнинга mineProofOfWork, тогда все хэши будут начинаться с нулей"
      ],
      "execution_count": null,
      "outputs": []
    },
    {
      "cell_type": "code",
      "metadata": {
        "id": "he-DSw8KsEu8"
      },
      "source": [
        "# 1. Переписать фун-ю addNewBlock, чтобы она при добавлении блока использовала функцию майнинга\n",
        "# 2. Переписать фун-ю validateBlockchain, чтобы она еще проверяла что хэш начинается с нужного кол-ва нулей\n"
      ],
      "execution_count": null,
      "outputs": []
    }
  ]
}